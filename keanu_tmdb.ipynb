{
 "cells": [
  {
   "cell_type": "markdown",
   "metadata": {},
   "source": [
    "Importing libraries and loading environment variables from a .env file containing the API Key "
   ]
  },
  {
   "cell_type": "code",
   "execution_count": 8,
   "metadata": {},
   "outputs": [],
   "source": [
    "import requests\n",
    "import tmdbsimple as tmdb\n",
    "import pandas as pd\n",
    "\n",
    "from dotenv import load_dotenv\n",
    "import os\n",
    "\n",
    "# This loads the environment variables from the .env file\n",
    "load_dotenv()\n",
    "\n",
    "# This retrieves the API Key\n",
    "API_KEY = os.getenv(\"TMDb_API_KEY\")\n",
    "\n",
    "if not API_KEY:\n",
    "    raise ValueError(\"TMDB API Key not found. Make sure it's set in the .env file.\")"
   ]
  },
  {
   "cell_type": "markdown",
   "metadata": {},
   "source": [
    "Establishing variables, requesting the URL, setting up the API key..."
   ]
  },
  {
   "cell_type": "code",
   "execution_count": 9,
   "metadata": {},
   "outputs": [
    {
     "name": "stdout",
     "output_type": "stream",
     "text": [
      "Requesting URL: https://api.themoviedb.org/3/person/6384/movie_credits?api_key=93b29bf0b851209878217fccd1d8ca1a\n"
     ]
    }
   ],
   "source": [
    "# Set the TMDb API Key for tmdbsimple\n",
    "tmdb.API_KEY = API_KEY\n",
    "base_URL = \"https://api.themoviedb.org/3\"\n",
    "url = f\"{base_URL}/person/{6384}/movie_credits?api_key={API_KEY}\"\n",
    "\n",
    "print(f\"Requesting URL: {url}\")\n",
    "response = requests.get(url)"
   ]
  },
  {
   "cell_type": "markdown",
   "metadata": {},
   "source": [
    "Establishing a dataframe and running a basic check for response status codes"
   ]
  },
  {
   "cell_type": "code",
   "execution_count": 10,
   "metadata": {},
   "outputs": [
    {
     "name": "stdout",
     "output_type": "stream",
     "text": [
      "Request Successful!\n",
      "   adult                     backdrop_path         genre_ids    id  \\\n",
      "0  False  /gVw5NVGsGDhEeYUS1DeFWeLdQ16.jpg       [18, 10749]   859   \n",
      "1  False  /stSaFz5CtMXwIj3r4MDjqxqWRot.jpg              [18]   468   \n",
      "2  False  /3PQLohxgvjUQgF94sY5SEgVKSS6.jpg      [28, 53, 80]  1089   \n",
      "3  False  /tIG8FwHRiHLOlWJdizp2oxdkSL2.jpg      [14, 28, 27]   561   \n",
      "4  False  /h5h2zpha5480Nea2saKTyF8KNBk.jpg  [28, 80, 18, 53]  1266   \n",
      "\n",
      "  original_language        original_title  \\\n",
      "0                en    Dangerous Liaisons   \n",
      "1                en  My Own Private Idaho   \n",
      "2                en           Point Break   \n",
      "3                en           Constantine   \n",
      "4                en          Street Kings   \n",
      "\n",
      "                                            overview  popularity  \\\n",
      "0  In 18th century France, Marquise de Merteuil a...      19.824   \n",
      "1  In this loose adaptation of Shakespeare's \"Hen...      18.235   \n",
      "2  In Los Angeles, a gang of bank robbers who cal...      40.398   \n",
      "3  John Constantine has literally been to Hell an...     101.763   \n",
      "4  Tom Ludlow is a disillusioned L.A. Police Offi...      19.573   \n",
      "\n",
      "                        poster_path release_date                 title  video  \\\n",
      "0  /7etDozwd9Pf5oCcyo4h1Hki6U13.jpg   1988-12-21    Dangerous Liaisons  False   \n",
      "1  /p9E6Wp6RaqxH1ORy4mNL9Jgas48.jpg   1991-02-01  My Own Private Idaho  False   \n",
      "2  /tlbERIghrQ4oofqlbF7H0K0EYnx.jpg   1991-07-12           Point Break  False   \n",
      "3  /vPYgvd2MwHlxTamAOjwVQp4qs1W.jpg   2005-02-08           Constantine  False   \n",
      "4  /csXyZ1BsDBlH0PXkOFWxggEf9WF.jpg   2008-04-10          Street Kings  False   \n",
      "\n",
      "   vote_average  vote_count                     character  \\\n",
      "0         7.200        1146  Le Chevalier Raphael Danceny   \n",
      "1         7.100        1116                   Scott Favor   \n",
      "2         7.163        3544                   Johnny Utah   \n",
      "3         7.093        7166              John Constantine   \n",
      "4         6.600        1477          Detective Tom Ludlow   \n",
      "\n",
      "                  credit_id  order  \n",
      "0  52fe4283c3a36847f8024c85      4  \n",
      "1  52fe4247c3a36847f8011cf9      1  \n",
      "2  52fe42e7c3a36847f802b8a1      0  \n",
      "3  52fe4252c3a36847f8015399      0  \n",
      "4  52fe42ebc3a36847f802cf67      0  \n"
     ]
    }
   ],
   "source": [
    "# Checking the response status\n",
    "if response.status_code == 200: \n",
    "    try:\n",
    "        # Parsing JSON response \n",
    "        movie_data = response.json()\n",
    "        print(f\"Request Successful!\")\n",
    "        # Extracting 'cast' information and creating a DataFrame\n",
    "        movies = movie_data.get('cast', [])\n",
    "        df = pd.DataFrame(movies)\n",
    "        # Displaying the first few rows of the DataFrame\n",
    "        print(df.head())\n",
    "    except requests.exceptions.JSONDecodeError:\n",
    "        print(\"Error: Response could not be decoded as JSON\")\n",
    "else:\n",
    "    print(f\"Error: {response.status_code} - {response.reason}\")"
   ]
  },
  {
   "cell_type": "markdown",
   "metadata": {},
   "source": [
    "Taking the initial data I'm getting and structuring it with a DataFrame"
   ]
  },
  {
   "cell_type": "code",
   "execution_count": 11,
   "metadata": {},
   "outputs": [
    {
     "name": "stdout",
     "output_type": "stream",
     "text": [
      "                  title release_date                     character revenue\n",
      "0    Dangerous Liaisons   1988-12-21  Le Chevalier Raphael Danceny    None\n",
      "1  My Own Private Idaho   1991-02-01                   Scott Favor    None\n",
      "2           Point Break   1991-07-12                   Johnny Utah    None\n",
      "3           Constantine   2005-02-08              John Constantine    None\n",
      "4          Street Kings   2008-04-10          Detective Tom Ludlow    None\n"
     ]
    }
   ],
   "source": [
    "columns = ['title', 'release_date', 'character', 'revenue']\n",
    "refined_movies = []\n",
    "\n",
    "for movie in movies:\n",
    "    refined_movies.append({\n",
    "        'title': movie.get('title'),\n",
    "        'release_date': movie.get('release_date'),\n",
    "        'character': movie.get('character'),\n",
    "        'revenue': movie.get('revenue')\n",
    "    })\n",
    "    \n",
    "df_refined = pd.DataFrame(refined_movies, columns=columns)\n",
    "print(df_refined[:5])"
   ]
  },
  {
   "cell_type": "markdown",
   "metadata": {},
   "source": [
    "Setting the base URL for the new 'Whoa' API"
   ]
  },
  {
   "cell_type": "code",
   "execution_count": 12,
   "metadata": {},
   "outputs": [],
   "source": [
    "whoa_base_url = \"https://whoa.onrender.com/\"\n",
    "# I will adjust this based on API needs\n",
    "endpoint = \"whoas/random\""
   ]
  },
  {
   "cell_type": "markdown",
   "metadata": {},
   "source": [
    "Defining the new API call"
   ]
  },
  {
   "cell_type": "code",
   "execution_count": null,
   "metadata": {},
   "outputs": [],
   "source": [
    "response = requests.get(f\"{whoa_base_url}{endpoint}\")\n",
    "if response.status_code == 200:\n",
    "    try:\n",
    "        whoa_data = response.json()\n",
    "        print(\"Data Retrieved Successfully\")\n",
    "        print(whoa_data)\n",
    "    except requests.exceptions.JSONDecodeError:\n",
    "        print(\"Error decoding JSON response\")\n",
    "else:\n",
    "    print(f\"Error: {response.status_code} - response.reason\")"
   ]
  },
  {
   "cell_type": "markdown",
   "metadata": {},
   "source": [
    "I'm extracting the data into a DataFrame"
   ]
  },
  {
   "cell_type": "code",
   "execution_count": 15,
   "metadata": {},
   "outputs": [
    {
     "name": "stdout",
     "output_type": "stream",
     "text": [
      "                              movie  year release_date  character  \\\n",
      "0  Bill & Ted's Excellent Adventure  1989   1989-02-17  Ted Logan   \n",
      "\n",
      "   total_whoas_in_movie  \n",
      "0                    26  \n"
     ]
    }
   ],
   "source": [
    "# Defining columns to extract\n",
    "columns = ['movie', 'year', 'release_date', 'character', 'total_whoas_in_movie']\n",
    "\n",
    "whoa_movies = []\n",
    "for item in whoa_data:\n",
    "    whoa_movies.append({\n",
    "        'movie': item.get('movie'),\n",
    "        'year': item.get('year'),\n",
    "        'release_date': item.get('release_date'),\n",
    "        'character': item.get('character'),\n",
    "        'total_whoas_in_movie': item.get('total_whoas_in_movie')\n",
    "    })\n",
    "\n",
    "df_whoa = pd.DataFrame(whoa_movies, columns=columns)\n",
    "print(df_whoa)"
   ]
  }
 ],
 "metadata": {
  "kernelspec": {
   "display_name": "venv",
   "language": "python",
   "name": "python3"
  },
  "language_info": {
   "codemirror_mode": {
    "name": "ipython",
    "version": 3
   },
   "file_extension": ".py",
   "mimetype": "text/x-python",
   "name": "python",
   "nbconvert_exporter": "python",
   "pygments_lexer": "ipython3",
   "version": "3.12.8"
  }
 },
 "nbformat": 4,
 "nbformat_minor": 2
}
