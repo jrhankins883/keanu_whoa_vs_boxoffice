{
 "cells": [
  {
   "cell_type": "markdown",
   "metadata": {},
   "source": [
    "Imports, env variables, and API key"
   ]
  },
  {
   "cell_type": "code",
   "execution_count": 1,
   "metadata": {},
   "outputs": [],
   "source": [
    "import requests\n",
    "import tmdbsimple as tmdb\n",
    "import pandas as pd\n",
    "from dotenv import load_dotenv\n",
    "import os\n",
    "\n",
    "# Loading environment variables and API key\n",
    "load_dotenv()\n",
    "API_KEY = os.getenv(\"TMDb_API_KEY\")\n",
    "if not API_KEY:\n",
    "    raise ValueError(\"TMDB API Key not found. Make sure it's set in the .env file.\")\n",
    "\n",
    "tmdb.API_KEY = API_KEY\n",
    "BASE_URL = \"https://api.themoviedb.org/3\"\n",
    "WHOA_API_URL = \"https://whoa.onrender.com/whoas/ordered/1-118\""
   ]
  },
  {
   "cell_type": "markdown",
   "metadata": {},
   "source": [
    "Fetching TMDb Keanu movie credits"
   ]
  },
  {
   "cell_type": "code",
   "execution_count": 2,
   "metadata": {},
   "outputs": [],
   "source": [
    "# Function to fetch movie credits from TMDb API\n",
    "def fetch_tmdb_data():\n",
    "    \"\"\"\n",
    "    Fetch Keanu Reeves's movie credits from the TMDb API\n",
    "    and create a DataFrame with the required details.\n",
    "    \"\"\"\n",
    "    url = f\"{BASE_URL}/person/{6384}/movie_credits?api_key={API_KEY}\"\n",
    "    print(f\"Requesting URL: {url}\")\n",
    "    response = requests.get(url)\n",
    "\n",
    "    if response.status_code == 200:\n",
    "        try:\n",
    "            # Parsing JSON response\n",
    "            movie_data = response.json()\n",
    "            print(\"Request Successful!\")\n",
    "\n",
    "            # Extracting 'cast' information\n",
    "            movies = movie_data.get('cast', [])\n",
    "\n",
    "            # Creating a DataFrame with selected columns\n",
    "            columns = ['movie_id', 'title', 'release_date', 'character', 'revenue']\n",
    "            refined_movies = [\n",
    "                {\n",
    "                    'movie_id': movie.get('id'),  # Extract movie_id\n",
    "                    'title': movie.get('title'),\n",
    "                    'release_date': movie.get('release_date'),\n",
    "                    'character': movie.get('character'),\n",
    "                    'revenue': None  # Placeholder for now\n",
    "                }\n",
    "                for movie in movies\n",
    "            ]\n",
    "\n",
    "            tmdb_df = pd.DataFrame(refined_movies, columns=columns)\n",
    "            print(\"TMDb DataFrame:\")\n",
    "            print(tmdb_df.head())\n",
    "            return tmdb_df\n",
    "\n",
    "        except requests.exceptions.JSONDecodeError:\n",
    "            print(\"Error: Response could not be decoded as JSON\")\n",
    "            return pd.DataFrame()\n",
    "    else:\n",
    "        print(f\"Error: {response.status_code} - {response.reason}\")\n",
    "        return pd.DataFrame()\n"
   ]
  },
  {
   "cell_type": "markdown",
   "metadata": {},
   "source": [
    "Fetching \"Whoa API\" data"
   ]
  },
  {
   "cell_type": "code",
   "execution_count": 3,
   "metadata": {},
   "outputs": [],
   "source": [
    "# Function to fetch \"Whoa API\" data\n",
    "def fetch_whoa_data():\n",
    "    headers = {\"accept\": \"application/json\"}\n",
    "    response = requests.get(WHOA_API_URL, headers=headers)\n",
    "\n",
    "    if response.status_code == 200:\n",
    "        data = response.json()\n",
    "        unique_movies = {movie['movie']: movie for movie in data}.values()\n",
    "        df = pd.DataFrame(unique_movies)\n",
    "        columns_to_keep = ['movie', 'year', 'release_date', 'character', 'total_whoas_in_movie']\n",
    "        return df[columns_to_keep]\n",
    "    else:\n",
    "        print(f\"Failed to fetch data from Whoa API. Status code: {response.status_code}\")\n",
    "        return pd.DataFrame()\n"
   ]
  },
  {
   "cell_type": "markdown",
   "metadata": {},
   "source": [
    "Merging the data"
   ]
  },
  {
   "cell_type": "code",
   "execution_count": 4,
   "metadata": {},
   "outputs": [],
   "source": [
    "# Function to merge TMDb and Whoa API data\n",
    "def merge_data(tmdb_df, whoa_df):\n",
    "    combined_df = pd.merge(\n",
    "        whoa_df,\n",
    "        tmdb_df,\n",
    "        left_on=['movie'],\n",
    "        right_on=['title'],\n",
    "        how='left'\n",
    "    )\n",
    "    return combined_df"
   ]
  },
  {
   "cell_type": "markdown",
   "metadata": {},
   "source": [
    "Fetching and updating the revenue \"box office\" information"
   ]
  },
  {
   "cell_type": "code",
   "execution_count": 5,
   "metadata": {},
   "outputs": [],
   "source": [
    "# Function to fetch and update revenue information\n",
    "def update_revenue_data(combined_df):\n",
    "    revenues = []\n",
    "\n",
    "    for index, row in combined_df.iterrows():\n",
    "        movie_title = row['movie']\n",
    "        movie_id = row.get('movie_id')\n",
    "\n",
    "        if pd.isna(movie_title) or movie_id is None:\n",
    "            revenues.append(None)\n",
    "            print(f\"Skipping movie: {movie_title} (No movie_id)\")\n",
    "            continue\n",
    "\n",
    "        details_url = f\"{BASE_URL}/movie/{movie_id}?api_key={API_KEY}\"\n",
    "        response = requests.get(details_url)\n",
    "\n",
    "        if response.status_code == 200:\n",
    "            movie_details = response.json()\n",
    "            revenue = movie_details.get('revenue', None)\n",
    "            revenues.append(revenue)\n",
    "        else:\n",
    "            print(f\"Failed to fetch revenue for {movie_title} (ID: {movie_id})\")\n",
    "            revenues.append(None)\n",
    "\n",
    "    combined_df['revenue'] = revenues\n",
    "    return combined_df"
   ]
  },
  {
   "cell_type": "markdown",
   "metadata": {},
   "source": [
    "Main execution"
   ]
  },
  {
   "cell_type": "code",
   "execution_count": null,
   "metadata": {},
   "outputs": [],
   "source": [
    "if __name__ == \"__main__\":\n",
    "    print(\"Fetching TMDb data...\")\n",
    "    tmdb_df = fetch_tmdb_data()\n",
    "\n",
    "    print(\"Fetching Whoa API data...\")\n",
    "    whoa_df = fetch_whoa_data()\n",
    "\n",
    "    if not tmdb_df.empty and not whoa_df.empty:\n",
    "        print(\"Merging data...\")\n",
    "        combined_df = merge_data(tmdb_df, whoa_df)\n",
    "\n",
    "        print(\"Updating revenue data...\")\n",
    "        combined_df = update_revenue_data(combined_df)\n",
    "\n",
    "        output_file = \"keanu_combined_data_with_revenue.csv\"\n",
    "        combined_df.to_csv(output_file, index=False)\n",
    "        print(f\"Combined data saved to {output_file}\")\n",
    "    else:\n",
    "        print(\"Error: One or more data sources are empty. Aborting.\")\n"
   ]
  }
 ],
 "metadata": {
  "kernelspec": {
   "display_name": "venv",
   "language": "python",
   "name": "python3"
  },
  "language_info": {
   "codemirror_mode": {
    "name": "ipython",
    "version": 3
   },
   "file_extension": ".py",
   "mimetype": "text/x-python",
   "name": "python",
   "nbconvert_exporter": "python",
   "pygments_lexer": "ipython3",
   "version": "3.12.8"
  }
 },
 "nbformat": 4,
 "nbformat_minor": 2
}
