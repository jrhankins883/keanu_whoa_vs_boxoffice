{
 "cells": [
  {
   "cell_type": "markdown",
   "metadata": {},
   "source": [
    "Importing libraries and loading environment variables from a .env file containing the API Key "
   ]
  },
  {
   "cell_type": "code",
   "execution_count": null,
   "metadata": {},
   "outputs": [],
   "source": [
    "import requests\n",
    "import tmdbsimple as tmdb\n",
    "\n",
    "from dotenv import load_dotenv\n",
    "import os\n",
    "\n",
    "# This loads the environment variables from the .env file\n",
    "load_dotenv()\n",
    "\n",
    "# This retrieves the API Key\n",
    "API_KEY = os.getenv(\"TMDb_API_KEY\")\n",
    "\n",
    "if not API_KEY:\n",
    "    raise ValueError(\"TMDB API Key not found. Make sure it's set in the .env file.\")"
   ]
  },
  {
   "cell_type": "markdown",
   "metadata": {},
   "source": [
    "Establishing variables, requesting the URL, setting up the API key..."
   ]
  },
  {
   "cell_type": "code",
   "execution_count": null,
   "metadata": {},
   "outputs": [
    {
     "name": "stdout",
     "output_type": "stream",
     "text": [
      "Requesting URL: https://api.themoviedb.org/3/person/6384/movie_credits?api_key=93b29bf0b851209878217fccd1d8ca1a\n"
     ]
    }
   ],
   "source": [
    "tmdb.API_KEY = API_KEY\n",
    "base_URL = \"https://api.themoviedb.org/3\"\n",
    "url = f\"{base_URL}/person/{6384}/movie_credits?api_key={API_KEY}\"\n",
    "print(f\"Requesting URL: {url}\")\n",
    "response = requests.get(url)"
   ]
  },
  {
   "cell_type": "markdown",
   "metadata": {},
   "source": [
    "Basic check for response status codes"
   ]
  },
  {
   "cell_type": "code",
   "execution_count": null,
   "metadata": {},
   "outputs": [
    {
     "name": "stdout",
     "output_type": "stream",
     "text": [
      "Request Successful!\n"
     ]
    }
   ],
   "source": [
    "if response.status_code == 200: \n",
    "    try:\n",
    "        movie_data = response.json()\n",
    "        print(f\"Request Successful!\")\n",
    "    except requests.exceptions.JSONDecodeError:\n",
    "        print(\"Error: Response could not be decoded as JSON\")\n",
    "else:\n",
    "    print(f\"Error: {response.status_code}\")"
   ]
  },
  {
   "cell_type": "code",
   "execution_count": null,
   "metadata": {},
   "outputs": [
    {
     "name": "stdout",
     "output_type": "stream",
     "text": [
      "Title: Dangerous Liaisons, Release Date: 1988-12-21, Character: Le Chevalier Raphael Danceny, Box Office: None\n",
      "Title: My Own Private Idaho, Release Date: 1991-02-01, Character: Scott Favor, Box Office: None\n",
      "Title: Point Break, Release Date: 1991-07-12, Character: Johnny Utah, Box Office: None\n",
      "Title: Constantine, Release Date: 2005-02-08, Character: John Constantine, Box Office: None\n",
      "Title: Street Kings, Release Date: 2008-04-10, Character: Detective Tom Ludlow, Box Office: None\n",
      "Title: The Lake House, Release Date: 2006-06-16, Character: Alex Wyler, Box Office: None\n",
      "Title: The Gift, Release Date: 2000-03-16, Character: Donnie Barksdale, Box Office: None\n",
      "Title: The Matrix, Release Date: 1999-03-31, Character: Neo, Box Office: None\n",
      "Title: The Matrix Reloaded, Release Date: 2003-05-15, Character: Neo, Box Office: None\n",
      "Title: The Matrix Revolutions, Release Date: 2003-11-05, Character: Neo, Box Office: None\n",
      "Title: Thumbsucker, Release Date: 2005-09-16, Character: Perry, Box Office: None\n",
      "Title: Parenthood, Release Date: 1989-07-31, Character: Tod Higgins, Box Office: None\n",
      "Title: The Day the Earth Stood Still, Release Date: 2008-12-10, Character: Klaatu, Box Office: None\n",
      "Title: Speed, Release Date: 1994-06-09, Character: Jack Traven, Box Office: None\n",
      "Title: Bill & Ted's Excellent Adventure, Release Date: 1989-02-17, Character: Ted 'Theodore' Logan, Box Office: None\n",
      "Title: Bill & Ted's Bogus Journey, Release Date: 1991-07-19, Character: Ted, Box Office: None\n",
      "Title: Little Buddha, Release Date: 1993-12-01, Character: Siddhartha, Box Office: None\n",
      "Title: I Love You to Death, Release Date: 1990-04-06, Character: Marlon James, Box Office: None\n",
      "Title: The Devil's Advocate, Release Date: 1997-10-17, Character: Kevin Lomax, Box Office: None\n",
      "Title: Sweet November, Release Date: 2001-02-16, Character: Nelson Moss, Box Office: None\n",
      "Title: A Scanner Darkly, Release Date: 2006-07-07, Character: Bob Arctor, Box Office: None\n",
      "Title: The Watcher, Release Date: 2000-09-08, Character: David Allen Griffin, Box Office: None\n",
      "Title: The Replacements, Release Date: 2000-08-11, Character: Shane Falco, Box Office: None\n",
      "Title: The Private Lives of Pippa Lee, Release Date: 2009-07-07, Character: Chris Nadeau, Box Office: None\n",
      "Title: Hardball, Release Date: 2001-09-14, Character: Conor O'Neill, Box Office: None\n",
      "Title: River's Edge, Release Date: 1986-10-10, Character: Matt, Box Office: None\n",
      "Title: Something's Gotta Give, Release Date: 2003-12-12, Character: Dr. Julian Mercer, Box Office: None\n",
      "Title: Much Ado About Nothing, Release Date: 1993-05-07, Character: Don John, Box Office: None\n",
      "Title: Kid's Story, Release Date: 2003-06-03, Character: Neo (voice), Box Office: None\n",
      "Title: Chain Reaction, Release Date: 1996-08-02, Character: Eddie Kasalivich, Box Office: None\n",
      "Title: Babes in Toyland, Release Date: 1986-12-19, Character: Jack Fenton / Jack-be-Nimble, Box Office: None\n",
      "Title: A Walk in the Clouds, Release Date: 1995-05-27, Character: Paul Sutton, Box Office: None\n",
      "Title: Feeling Minnesota, Release Date: 1996-09-13, Character: Jjaks Clayton, Box Office: None\n",
      "Title: Johnny Mnemonic, Release Date: 1995-05-26, Character: Johnny Mnemonic, Box Office: None\n",
      "Title: Even Cowgirls Get the Blues, Release Date: 1994-05-13, Character: Julian Gitche, Box Office: None\n",
      "Title: The Last Time I Committed Suicide, Release Date: 1997-06-20, Character: Harry, Box Office: None\n",
      "Title: The Brotherhood of Justice, Release Date: 1986-05-18, Character: Derek, Box Office: None\n",
      "Title: The Matrix Revisited, Release Date: 2001-11-19, Character: Self - Neo, Box Office: None\n",
      "Title: Tune in Tomorrow..., Release Date: 1990-10-26, Character: Martin Loader, Box Office: None\n",
      "Title: Flying, Release Date: 1986-05-14, Character: Tommy, Box Office: None\n",
      "Title: 47 Ronin, Release Date: 2013-12-06, Character: Kai, Box Office: None\n",
      "Title: The Night Before, Release Date: 1988-04-15, Character: Winston Connelly, Box Office: None\n",
      "Title: Good Fortune, Release Date: 2025-10-17, Character: , Box Office: None\n",
      "Title: Youngblood, Release Date: 1986-01-31, Character: Heaver, Box Office: None\n",
      "Title: Die Keanu Reeves Story, Release Date: 2023-03-20, Character: , Box Office: None\n",
      "Title: Freaked, Release Date: 1993-09-11, Character: Ortiz the Dog Boy, Box Office: None\n",
      "Title: The Great Warming, Release Date: 2006-11-03, Character: Narrator (voice), Box Office: None\n",
      "Title: Permanent Record, Release Date: 1988-04-22, Character: Chris Townsend, Box Office: None\n",
      "Title: Henry's Crime, Release Date: 2010-01-14, Character: Henry Torne, Box Office: None\n",
      "Title: The Animatrix, Release Date: 2003-05-09, Character: Neo (\"Kid's Story\") (voice), Box Office: None\n",
      "Title: John Wick: Chapter 5, Release Date: , Character: John Wick, Box Office: None\n",
      "Title: Man of Tai Chi, Release Date: 2013-07-04, Character: Donaka Mark, Box Office: None\n",
      "Title: John Wick: Chapter 3 - Parabellum, Release Date: 2019-05-15, Character: John Wick, Box Office: None\n",
      "Title: Side by Side, Release Date: 2012-08-19, Character: Self / Host, Box Office: None\n",
      "Title: Generation Um..., Release Date: 2012-07-11, Character: John, Box Office: None\n",
      "Title: Young Again, Release Date: 1986-05-11, Character: Mick Riley, Box Office: None\n",
      "Title: Under the Influence, Release Date: 1986-09-28, Character: Eddie Talbot, Box Office: None\n",
      "Title: This Road Will Never End, Release Date: 1996-11-13, Character: Self (archive footage), Box Office: None\n",
      "Title: The Matrix Recalibrated, Release Date: 2004-04-06, Character: Self, Box Office: None\n",
      "Title: John Wick, Release Date: 2014-10-22, Character: John Wick, Box Office: None\n",
      "Title: Knock Knock, Release Date: 2015-06-26, Character: Evan Webber, Box Office: None\n",
      "Title: Thumbsucker - Behind the Scenes, Release Date: 2006-01-24, Character: Self, Box Office: None\n",
      "Title: Time Flies When You Are Having Fun! A Look Back at a Most \"Excellent Adventure\", Release Date: 2020-08-10, Character: Self, Box Office: None\n",
      "Title: Dracula Unearthed, Release Date: 2022-10-31, Character: Johnathan Harker (archive footage), Box Office: None\n",
      "Title: Howie Meets the Ghost of Environmental Disasters Yet to Come, Release Date: 1990-04-20, Character: Doomsayer, Box Office: None\n",
      "Title: Bowling for Columbine, Release Date: 2002-10-09, Character: Neo (archive footage), Box Office: None\n",
      "Title: Bill & Ted 4, Release Date: , Character: Ted Logan (rumored), Box Office: None\n",
      "Title: The Neon Demon, Release Date: 2016-05-31, Character: Hank, Box Office: None\n",
      "Title: As Above, So Below: The Underworld of 'John Wick', Release Date: 2017-06-13, Character: Save, Box Office: None\n",
      "Title: Wick's Toolbox, Release Date: 2017-06-13, Character: Self, Box Office: None\n",
      "Title: The Bad Batch, Release Date: 2017-06-23, Character: The Dream, Box Office: None\n",
      "Title: The Whole Truth, Release Date: 2016-03-25, Character: Richard Ramsey, Box Office: None\n",
      "Title: Exposed, Release Date: 2016-01-22, Character: Detective Scott Galban, Box Office: None\n",
      "Title: From the World of John Wick: Ballerina, Release Date: 2025-06-04, Character: John Wick, Box Office: None\n",
      "Title: Outcome, Release Date: 2025-04-18, Character: Reef, Box Office: None\n",
      "Title: Deep Web, Release Date: 2015-03-15, Character: Narrator, Box Office: None\n",
      "Title: Iron Fists and Kung Fu Kicks, Release Date: 2019-08-14, Character: Self (archive footage), Box Office: None\n",
      "Title: John Wick: Chapter 2, Release Date: 2017-02-08, Character: John Wick, Box Office: None\n",
      "Title: Me and Will, Release Date: 1999-07-10, Character: Keanu Reeves - Dogstar, Box Office: None\n",
      "Title: Keanu Reeves: Pop Messiah, Release Date: 2022-12-17, Character: Lui-même (archives), Box Office: None\n",
      "Title: One Step Away, Release Date: 1985-09-13, Character: Ron Petrie, Box Office: None\n",
      "Title: Final Cut: Ladies and Gentlemen, Release Date: 2012-02-04, Character: (archive footage), Box Office: None\n",
      "Title: Shadow the Hedgehog, Release Date: , Character: Shadow (voice), Box Office: None\n",
      "Title: The Prince of Pennsylvania, Release Date: 1988-10-10, Character: Rupert Marshetta, Box Office: None\n",
      "Title: Sonic the Hedgehog 3, Release Date: 2024-12-19, Character: Shadow (voice), Box Office: None\n",
      "Title: Life Under Water, Release Date: 1989-04-12, Character: Kip, Box Office: None\n",
      "Title: Providence, Release Date: 1991-01-01, Character: Eric, Box Office: None\n",
      "Title: 21 Years: Richard Linklater, Release Date: 2014-11-07, Character: Self - Actor, Box Office: None\n",
      "Title: Anyone Can Quantum, Release Date: 2016-01-27, Character: Future Keanu / Narrator, Box Office: None\n",
      "Title: The Entertainment System Is Down, Release Date: , Character: , Box Office: None\n",
      "Title: Blood Lines: Dracula - The Man. The Myth. The Movies., Release Date: 1992-01-01, Character: Self, Box Office: None\n",
      "Title: How to Rob a Bank, Release Date: 2024-06-04, Character: Johnny Utah (archive footage), Box Office: None\n",
      "Title: Keanu, Release Date: 2016-04-29, Character: Keanu (voice), Box Office: None\n",
      "Title: To the Bone, Release Date: 2017-01-22, Character: Dr. William Beckham, Box Office: None\n",
      "Title: De \"Matrix\" à \"Sense8\", la révolution Wachowski, Release Date: 2024-05-31, Character: Self - actor (archive footage), Box Office: None\n",
      "Title: Replicas, Release Date: 2018-10-25, Character: William Foster, Box Office: None\n",
      "Title: Mifune: The Last Samurai, Release Date: 2016-12-02, Character: Self - Narrator (voice), Box Office: None\n",
      "Title: Siberia, Release Date: 2018-07-13, Character: Lucas Hill, Box Office: None\n",
      "Title: Act of Vengeance, Release Date: 1986-09-04, Character: Buddy Martin, Box Office: None\n",
      "Title: Sunset Strip, Release Date: 2012-03-16, Character: Self, Box Office: None\n",
      "Title: My Own Private River, Release Date: 2012-02-19, Character: Scott Favor (archive footage), Box Office: None\n",
      "Title: SPF-18, Release Date: 2017-09-29, Character: Keanu Reeves, Box Office: None\n",
      "Title: Quantum Is Calling, Release Date: 2016-12-12, Character: The One (voice), Box Office: None\n",
      "Title: Destination Wedding, Release Date: 2018-08-02, Character: Frank, Box Office: None\n",
      "Title: A Man's Story, Release Date: 2011-10-08, Character: Self, Box Office: None\n",
      "Title: The Matrix Revolutions Revisited, Release Date: 2004-12-07, Character: Self, Box Office: None\n",
      "Title: Bill & Ted Face the Music, Release Date: 2020-08-27, Character: Ted, Box Office: None\n",
      "Title: The Making of ‘My Own Private Idaho’, Release Date: 2005-03-01, Character: Self, Box Office: None\n",
      "Title: Always Be My Maybe, Release Date: 2019-05-31, Character: Keanu Reeves, Box Office: None\n",
      "Title: A Happening of Monumental Proportions, Release Date: 2017-05-05, Character: Bob, Box Office: None\n",
      "Title: Toy Story 4, Release Date: 2019-06-19, Character: Duke Caboom (voice), Box Office: None\n",
      "Title: Letting Go, Release Date: 1985-05-11, Character: Stereo Teen #1, Box Office: None\n",
      "Title: MTV Reloaded, Release Date: 2003-05-13, Character: Neo (archive footage), Box Office: None\n",
      "Title: Ellie Parker, Release Date: 2005-01-21, Character: Self (Member of the group Dogstar), Box Office: None\n",
      "Title: John Wick: Chapter 4, Release Date: 2023-03-22, Character: John Wick, Box Office: None\n",
      "Title: One Summer in Austin: The Story of Filming 'A Scanner Darkly', Release Date: 2006-12-19, Character: Self / Bob Arctor, Box Office: None\n",
      "Title: John Wick: Calling in the Cavalry, Release Date: 2015-02-03, Character: Self, Box Office: None\n",
      "Title: Don't F*#% With John Wick, Release Date: 2015-02-03, Character: Self, Box Office: None\n",
      "Title: Training 'John Wick', Release Date: 2017-06-13, Character: Self, Box Office: None\n",
      "Title: Friends, Confidantes: The Keanu/Chad Partnership, Release Date: 2017-06-13, Character: Self, Box Office: None\n",
      "Title: Chamber Check: Evolution of a Fight Scene, Release Date: 2017-06-13, Character: Self, Box Office: None\n",
      "Title: The Matrix Reloaded Revisited, Release Date: 2004-12-07, Character: Self, Box Office: None\n",
      "Title: John Wick: Assassin's Code (Extra), Release Date: 2015-02-03, Character: John Wick, Box Office: None\n",
      "Title: The Matrix Resurrections, Release Date: 2021-12-16, Character: Neo / Thomas Anderson, Box Office: None\n",
      "Title: Past Midnight, Release Date: , Character: , Box Office: None\n",
      "Title: Between Two Ferns: The Movie, Release Date: 2019-09-20, Character: Keanu Reeves, Box Office: None\n",
      "Title: The SpongeBob Movie: Sponge on the Run, Release Date: 2020-08-14, Character: Sage, Box Office: None\n",
      "Title: Echo, Release Date: 2005-07-30, Character: Narcissus, Box Office: None\n",
      "Title: Keanu Reeves: Journey to Success, Release Date: 2003-10-01, Character: Self, Box Office: None\n",
      "Title: John Wick Chapter 2: Wick-vizzed, Release Date: 2017-06-13, Character: Self, Box Office: None\n",
      "Title: Making 'The Matrix', Release Date: 1999-09-21, Character: Self, Box Office: None\n",
      "Title: Mind Over Matter: The Physicality of the Matrix Future, Release Date: 2004-04-06, Character: Self, Box Office: None\n",
      "Title: The Matrix Reloaded: Pre-Load, Release Date: 2003-10-14, Character: Self, Box Office: None\n",
      "Title: The Matrix Revolutions: Neo Realism - Evolution of Bullet Time, Release Date: 2004-04-06, Character: Self, Box Office: None\n",
      "Title: Bram Stoker's Dracula, Release Date: 1992-11-13, Character: Jonathan Harker, Box Office: None\n",
      "Title: The Blood Is the Life: The Making of 'Bram Stoker's Dracula', Release Date: 2007-10-08, Character: Self (archive footage), Box Office: None\n",
      "Title: In Camera: The Naïve Visual Effects of 'Bram Stoker's Dracula', Release Date: 2007-10-02, Character: Self (archive footage), Box Office: None\n",
      "Title: The Thanksgiving Play, Release Date: 2021-03-25, Character: Caden, Box Office: None\n",
      "Title: Constantine 2, Release Date: , Character: John Constantine, Box Office: None\n",
      "Title: BRZRKR, Release Date: , Character: B, Box Office: None\n",
      "Title: DC League of Super-Pets, Release Date: 2022-07-27, Character: Bruce Wayne / Batman (voice), Box Office: None\n",
      "Title: Keanu Reeves: The One and Only, Release Date: 2024-08-01, Character: Himself, Box Office: None\n",
      "Title: Keanu Reeves Coca-Cola Commercial, Release Date: 1983-01-01, Character: Self, Box Office: None\n"
     ]
    }
   ],
   "source": [
    "movie_data = response.json()\n",
    "movies = movie_data.get('cast', [])\n",
    "for movie in movies:\n",
    "    print(f\"Title: {movie.get('title')}, Release Date: {movie.get('release_date')}, Character: {movie.get('character')}, Box Office: {movie.get('revenue')}\")"
   ]
  },
  {
   "cell_type": "code",
   "execution_count": null,
   "metadata": {},
   "outputs": [],
   "source": []
  }
 ],
 "metadata": {
  "kernelspec": {
   "display_name": "venv",
   "language": "python",
   "name": "python3"
  },
  "language_info": {
   "codemirror_mode": {
    "name": "ipython",
    "version": 3
   },
   "file_extension": ".py",
   "mimetype": "text/x-python",
   "name": "python",
   "nbconvert_exporter": "python",
   "pygments_lexer": "ipython3",
   "version": "3.12.8"
  }
 },
 "nbformat": 4,
 "nbformat_minor": 2
}
