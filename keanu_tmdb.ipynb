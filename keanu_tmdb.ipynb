{
 "cells": [
  {
   "cell_type": "markdown",
   "metadata": {},
   "source": [
    "Importing libraries and loading environment variables from a .env file containing the API Key "
   ]
  },
  {
   "cell_type": "code",
   "execution_count": null,
   "metadata": {},
   "outputs": [],
   "source": [
    "import requests\n",
    "import tmdbsimple as tmdb\n",
    "import pandas as pd\n",
    "\n",
    "from dotenv import load_dotenv\n",
    "import os\n",
    "\n",
    "# This loads the environment variables from the .env file\n",
    "load_dotenv()\n",
    "\n",
    "# This retrieves the API Key\n",
    "API_KEY = os.getenv(\"TMDb_API_KEY\")\n",
    "\n",
    "if not API_KEY:\n",
    "    raise ValueError(\"TMDB API Key not found. Make sure it's set in the .env file.\")"
   ]
  },
  {
   "cell_type": "markdown",
   "metadata": {},
   "source": [
    "Establishing variables, requesting the URL, setting up the API key..."
   ]
  },
  {
   "cell_type": "code",
   "execution_count": null,
   "metadata": {},
   "outputs": [],
   "source": [
    "# Set the TMDb API Key for tmdbsimple\n",
    "tmdb.API_KEY = API_KEY\n",
    "base_URL = \"https://api.themoviedb.org/3\"\n",
    "url = f\"{base_URL}/person/{6384}/movie_credits?api_key={API_KEY}\"\n",
    "\n",
    "print(f\"Requesting URL: {url}\")\n",
    "response = requests.get(url)"
   ]
  },
  {
   "cell_type": "markdown",
   "metadata": {},
   "source": [
    "Establishing a dataframe and running a basic check for response status codes"
   ]
  },
  {
   "cell_type": "code",
   "execution_count": null,
   "metadata": {},
   "outputs": [],
   "source": [
    "# Checking the response status\n",
    "if response.status_code == 200: \n",
    "    try:\n",
    "        # Parsing JSON response \n",
    "        movie_data = response.json()\n",
    "        print(f\"Request Successful!\")\n",
    "        # Extracting 'cast' information and creating a DataFrame\n",
    "        movies = movie_data.get('cast', [])\n",
    "        df = pd.DataFrame(movies)\n",
    "        # Displaying the first few rows of the DataFrame\n",
    "        print(df.head())\n",
    "    except requests.exceptions.JSONDecodeError:\n",
    "        print(\"Error: Response could not be decoded as JSON\")\n",
    "else:\n",
    "    print(f\"Error: {response.status_code} - {response.reason}\")"
   ]
  },
  {
   "cell_type": "markdown",
   "metadata": {},
   "source": [
    "Taking the initial data I'm getting and structuring it with a DataFrame"
   ]
  },
  {
   "cell_type": "code",
   "execution_count": null,
   "metadata": {},
   "outputs": [],
   "source": [
    "columns = ['title', 'release_date', 'character', 'revenue']\n",
    "refined_movies = []\n",
    "\n",
    "for movie in movies:\n",
    "    refined_movies.append({\n",
    "        'title': movie.get('title'),\n",
    "        'release_date': movie.get('release_date'),\n",
    "        'character': movie.get('character'),\n",
    "        'revenue': movie.get('revenue')\n",
    "    })\n",
    "    \n",
    "df_refined = pd.DataFrame(refined_movies, columns=columns)\n",
    "print(df_refined[:5])"
   ]
  },
  {
   "cell_type": "markdown",
   "metadata": {},
   "source": [
    "Setting up a code block that will pull data from the other API so I can begin to compare the two..."
   ]
  }
 ],
 "metadata": {
  "kernelspec": {
   "display_name": "venv",
   "language": "python",
   "name": "python3"
  },
  "language_info": {
   "codemirror_mode": {
    "name": "ipython",
    "version": 3
   },
   "file_extension": ".py",
   "mimetype": "text/x-python",
   "name": "python",
   "nbconvert_exporter": "python",
   "pygments_lexer": "ipython3",
   "version": "3.12.8"
  }
 },
 "nbformat": 4,
 "nbformat_minor": 2
}
