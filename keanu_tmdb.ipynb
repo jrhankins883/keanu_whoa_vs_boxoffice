{
 "cells": [
  {
   "cell_type": "markdown",
   "metadata": {},
   "source": [
    "Importing libraries and loading environment variables from a .env file containing the API Key "
   ]
  },
  {
   "cell_type": "code",
   "execution_count": 16,
   "metadata": {},
   "outputs": [],
   "source": [
    "import requests\n",
    "import tmdbsimple as tmdb\n",
    "import pandas as pd\n",
    "\n",
    "from dotenv import load_dotenv\n",
    "import os\n",
    "\n",
    "# This loads the environment variables from the .env file\n",
    "load_dotenv()\n",
    "\n",
    "# This retrieves the API Key\n",
    "API_KEY = os.getenv(\"TMDb_API_KEY\")\n",
    "\n",
    "if not API_KEY:\n",
    "    raise ValueError(\"TMDB API Key not found. Make sure it's set in the .env file.\")"
   ]
  },
  {
   "cell_type": "markdown",
   "metadata": {},
   "source": [
    "Establishing variables, requesting the URL, setting up the API key..."
   ]
  },
  {
   "cell_type": "code",
   "execution_count": 17,
   "metadata": {},
   "outputs": [
    {
     "name": "stdout",
     "output_type": "stream",
     "text": [
      "Requesting URL: https://api.themoviedb.org/3/person/6384/movie_credits?api_key=93b29bf0b851209878217fccd1d8ca1a\n"
     ]
    }
   ],
   "source": [
    "# Set the TMDb API Key for tmdbsimple\n",
    "tmdb.API_KEY = API_KEY\n",
    "base_URL = \"https://api.themoviedb.org/3\"\n",
    "url = f\"{base_URL}/person/{6384}/movie_credits?api_key={API_KEY}\"\n",
    "\n",
    "print(f\"Requesting URL: {url}\")\n",
    "response = requests.get(url)"
   ]
  },
  {
   "cell_type": "markdown",
   "metadata": {},
   "source": [
    "Establishing a dataframe and running a basic check for response status codes"
   ]
  },
  {
   "cell_type": "code",
   "execution_count": 18,
   "metadata": {},
   "outputs": [
    {
     "name": "stdout",
     "output_type": "stream",
     "text": [
      "Request Successful!\n",
      "   adult                     backdrop_path         genre_ids    id  \\\n",
      "0  False  /gVw5NVGsGDhEeYUS1DeFWeLdQ16.jpg       [18, 10749]   859   \n",
      "1  False  /stSaFz5CtMXwIj3r4MDjqxqWRot.jpg              [18]   468   \n",
      "2  False  /3PQLohxgvjUQgF94sY5SEgVKSS6.jpg      [28, 53, 80]  1089   \n",
      "3  False  /tIG8FwHRiHLOlWJdizp2oxdkSL2.jpg      [14, 28, 27]   561   \n",
      "4  False  /h5h2zpha5480Nea2saKTyF8KNBk.jpg  [28, 80, 18, 53]  1266   \n",
      "\n",
      "  original_language        original_title  \\\n",
      "0                en    Dangerous Liaisons   \n",
      "1                en  My Own Private Idaho   \n",
      "2                en           Point Break   \n",
      "3                en           Constantine   \n",
      "4                en          Street Kings   \n",
      "\n",
      "                                            overview  popularity  \\\n",
      "0  In 18th century France, Marquise de Merteuil a...      19.824   \n",
      "1  In this loose adaptation of Shakespeare's \"Hen...      18.235   \n",
      "2  In Los Angeles, a gang of bank robbers who cal...      40.398   \n",
      "3  John Constantine has literally been to Hell an...     101.763   \n",
      "4  Tom Ludlow is a disillusioned L.A. Police Offi...      19.573   \n",
      "\n",
      "                        poster_path release_date                 title  video  \\\n",
      "0  /7etDozwd9Pf5oCcyo4h1Hki6U13.jpg   1988-12-21    Dangerous Liaisons  False   \n",
      "1  /p9E6Wp6RaqxH1ORy4mNL9Jgas48.jpg   1991-02-01  My Own Private Idaho  False   \n",
      "2  /tlbERIghrQ4oofqlbF7H0K0EYnx.jpg   1991-07-12           Point Break  False   \n",
      "3  /vPYgvd2MwHlxTamAOjwVQp4qs1W.jpg   2005-02-08           Constantine  False   \n",
      "4  /csXyZ1BsDBlH0PXkOFWxggEf9WF.jpg   2008-04-10          Street Kings  False   \n",
      "\n",
      "   vote_average  vote_count                     character  \\\n",
      "0         7.200        1146  Le Chevalier Raphael Danceny   \n",
      "1         7.100        1116                   Scott Favor   \n",
      "2         7.162        3545                   Johnny Utah   \n",
      "3         7.100        7168              John Constantine   \n",
      "4         6.600        1477          Detective Tom Ludlow   \n",
      "\n",
      "                  credit_id  order  \n",
      "0  52fe4283c3a36847f8024c85      4  \n",
      "1  52fe4247c3a36847f8011cf9      1  \n",
      "2  52fe42e7c3a36847f802b8a1      0  \n",
      "3  52fe4252c3a36847f8015399      0  \n",
      "4  52fe42ebc3a36847f802cf67      0  \n"
     ]
    }
   ],
   "source": [
    "# Checking the response status\n",
    "if response.status_code == 200: \n",
    "    try:\n",
    "        # Parsing JSON response \n",
    "        movie_data = response.json()\n",
    "        print(f\"Request Successful!\")\n",
    "        # Extracting 'cast' information and creating a DataFrame\n",
    "        movies = movie_data.get('cast', [])\n",
    "        df = pd.DataFrame(movies)\n",
    "        # Displaying the first few rows of the DataFrame\n",
    "        print(df.head())\n",
    "    except requests.exceptions.JSONDecodeError:\n",
    "        print(\"Error: Response could not be decoded as JSON\")\n",
    "else:\n",
    "    print(f\"Error: {response.status_code} - {response.reason}\")"
   ]
  },
  {
   "cell_type": "markdown",
   "metadata": {},
   "source": [
    "Taking the initial data I'm getting and structuring it with a DataFrame"
   ]
  },
  {
   "cell_type": "code",
   "execution_count": 19,
   "metadata": {},
   "outputs": [
    {
     "name": "stdout",
     "output_type": "stream",
     "text": [
      "                  title release_date                     character revenue\n",
      "0    Dangerous Liaisons   1988-12-21  Le Chevalier Raphael Danceny    None\n",
      "1  My Own Private Idaho   1991-02-01                   Scott Favor    None\n",
      "2           Point Break   1991-07-12                   Johnny Utah    None\n",
      "3           Constantine   2005-02-08              John Constantine    None\n",
      "4          Street Kings   2008-04-10          Detective Tom Ludlow    None\n"
     ]
    }
   ],
   "source": [
    "columns = ['title', 'release_date', 'character', 'revenue']\n",
    "refined_movies = []\n",
    "\n",
    "for movie in movies:\n",
    "    refined_movies.append({\n",
    "        'title': movie.get('title'),\n",
    "        'release_date': movie.get('release_date'),\n",
    "        'character': movie.get('character'),\n",
    "        'revenue': movie.get('revenue')\n",
    "    })\n",
    "    \n",
    "df_refined = pd.DataFrame(refined_movies, columns=columns)\n",
    "print(df_refined[:5])"
   ]
  },
  {
   "cell_type": "markdown",
   "metadata": {},
   "source": [
    "Setting the base URL for the new 'Whoa' API"
   ]
  },
  {
   "cell_type": "code",
   "execution_count": 22,
   "metadata": {},
   "outputs": [
    {
     "name": "stdout",
     "output_type": "stream",
     "text": [
      "{\"movie\":\"Babes in Toyland (The Director's Cut)\",\"year\":1986,\"release_date\":\"1986-12-19\",\"director\":\"Clive Donner\",\"character\":\"Jack Fenton / Jack-be-Nimble\",\"movie_duration\":\"02:25:13\",\"timestamp\":\"00:12:58\",\"full_line\":\"Caref-whoa!\",\"current_whoa_in_movie\":1,\"total_whoas_in_movie\":2,\"whoa_grouping\":null,\"poster\":\"https://images.ctfassets.net/a6ek464hq2lg/7G8GyvfQAl85EeFptdqhZR/abb15177e511c0f2592fa27153c7ba2f/h1qDDRTq2rf8cubZZHzeUwT5Lf6.jpeg\",\"video\":{\"1080p\":\"https://videos.ctfassets.net/a6ek464hq2lg/3kXOsgJOAEkr8UyCnbJeOb/6cafad66c133a1635de0c3614c76e47f/Babes_in_Toyland_1__1080p_.mp4\",\"720p\":\"https://videos.ctfassets.net/a6ek464hq2lg/8myLimtO9vk8AeKrKXm2v/225a9cda44875b4df07a05eb417a1728/Babes_in_Toyland_1__720p_.mp4\",\"480p\":\"https://videos.ctfassets.net/a6ek464hq2lg/1slIhRcNxSMAS6mt96BQDq/fdb1b35bbbf003f5ba46eca28cc62f3e/Babes_in_Toyland_1__480p_.mp4\",\"360p\":\"https://videos.ctfassets.net/a6ek464hq2lg/4YevBqwtVUB2I5ga7LCxn/aabb3cc75c40d1e4aef6370f6fd12352/Babes_in_Toyland_1__360p_.mp4\"},\"audio\":\"https://assets.ctfassets.net/a6ek464hq2lg/4xgUe2NQL1v77piAFhVXCx/c8e121f3068fb81232cfdd8a8de0ecad/Babes_in_Toyland_1_Audio.mp3\"}\n"
     ]
    }
   ],
   "source": [
    "whoa_base_url = \"https://whoa.onrender.com/\"\n",
    "# I will adjust this based on API needs\n",
    "endpoint = \"whoas/ordered\"\n",
    "print(response.text)"
   ]
  },
  {
   "cell_type": "markdown",
   "metadata": {},
   "source": [
    "Defining the new API call and validating the response"
   ]
  },
  {
   "cell_type": "code",
   "execution_count": 21,
   "metadata": {},
   "outputs": [
    {
     "name": "stdout",
     "output_type": "stream",
     "text": [
      "Data Retrieved Successfully\n",
      "Number of movies retrieved: 14\n"
     ]
    },
    {
     "ename": "AttributeError",
     "evalue": "'str' object has no attribute 'get'",
     "output_type": "error",
     "traceback": [
      "\u001b[1;31m---------------------------------------------------------------------------\u001b[0m",
      "\u001b[1;31mAttributeError\u001b[0m                            Traceback (most recent call last)",
      "Cell \u001b[1;32mIn[21], line 10\u001b[0m\n\u001b[0;32m      7\u001b[0m whoa_movies \u001b[38;5;241m=\u001b[39m []\n\u001b[0;32m      8\u001b[0m \u001b[38;5;28;01mfor\u001b[39;00m item \u001b[38;5;129;01min\u001b[39;00m whoa_data:\n\u001b[0;32m      9\u001b[0m     whoa_movies\u001b[38;5;241m.\u001b[39mappend({\n\u001b[1;32m---> 10\u001b[0m         \u001b[38;5;124m'\u001b[39m\u001b[38;5;124mmovie\u001b[39m\u001b[38;5;124m'\u001b[39m: \u001b[43mitem\u001b[49m\u001b[38;5;241;43m.\u001b[39;49m\u001b[43mget\u001b[49m(\u001b[38;5;124m'\u001b[39m\u001b[38;5;124mmovie\u001b[39m\u001b[38;5;124m'\u001b[39m),\n\u001b[0;32m     11\u001b[0m         \u001b[38;5;124m'\u001b[39m\u001b[38;5;124myear\u001b[39m\u001b[38;5;124m'\u001b[39m: item\u001b[38;5;241m.\u001b[39mget(\u001b[38;5;124m'\u001b[39m\u001b[38;5;124myear\u001b[39m\u001b[38;5;124m'\u001b[39m),\n\u001b[0;32m     12\u001b[0m         \u001b[38;5;124m'\u001b[39m\u001b[38;5;124mrelease_date\u001b[39m\u001b[38;5;124m'\u001b[39m: item\u001b[38;5;241m.\u001b[39mget(\u001b[38;5;124m'\u001b[39m\u001b[38;5;124mrelease_date\u001b[39m\u001b[38;5;124m'\u001b[39m),\n\u001b[0;32m     13\u001b[0m         \u001b[38;5;124m'\u001b[39m\u001b[38;5;124mcharacter\u001b[39m\u001b[38;5;124m'\u001b[39m: item\u001b[38;5;241m.\u001b[39mget(\u001b[38;5;124m'\u001b[39m\u001b[38;5;124mcharacter\u001b[39m\u001b[38;5;124m'\u001b[39m),\n\u001b[0;32m     14\u001b[0m         \u001b[38;5;124m'\u001b[39m\u001b[38;5;124mtotal_whoas_in_movie\u001b[39m\u001b[38;5;124m'\u001b[39m: item\u001b[38;5;241m.\u001b[39mget(\u001b[38;5;124m\"\u001b[39m\u001b[38;5;124mtotal_whoas_in_movie\u001b[39m\u001b[38;5;124m\"\u001b[39m)\n\u001b[0;32m     15\u001b[0m     })\n\u001b[0;32m     17\u001b[0m     columns \u001b[38;5;241m=\u001b[39m [\u001b[38;5;124m'\u001b[39m\u001b[38;5;124mmovie\u001b[39m\u001b[38;5;124m'\u001b[39m, \u001b[38;5;124m'\u001b[39m\u001b[38;5;124myear\u001b[39m\u001b[38;5;124m'\u001b[39m, \u001b[38;5;124m'\u001b[39m\u001b[38;5;124mrelease_date\u001b[39m\u001b[38;5;124m'\u001b[39m, \u001b[38;5;124m'\u001b[39m\u001b[38;5;124mcharacter\u001b[39m\u001b[38;5;124m'\u001b[39m, \u001b[38;5;124m'\u001b[39m\u001b[38;5;124mtotal_whoas_in_movie\u001b[39m\u001b[38;5;124m'\u001b[39m]\n\u001b[0;32m     18\u001b[0m     df_whoa \u001b[38;5;241m=\u001b[39m pd\u001b[38;5;241m.\u001b[39mDataFrame(whoa_movies, columns\u001b[38;5;241m=\u001b[39mcolumns)\n",
      "\u001b[1;31mAttributeError\u001b[0m: 'str' object has no attribute 'get'"
     ]
    }
   ],
   "source": [
    "response = requests.get(f\"{whoa_base_url}{endpoint}\")\n",
    "if response.status_code == 200:\n",
    "    try:\n",
    "        whoa_data = response.json()\n",
    "        print(\"Data Retrieved Successfully\")\n",
    "        print(f\"Number of movies retrieved: {len(whoa_data)}\")\n",
    "        whoa_movies = []\n",
    "        for item in whoa_data:\n",
    "            whoa_movies.append({\n",
    "                'movie': item.get('movie'),\n",
    "                'year': item.get('year'),\n",
    "                'release_date': item.get('release_date'),\n",
    "                'character': item.get('character'),\n",
    "                'total_whoas_in_movie': item.get(\"total_whoas_in_movie\")\n",
    "            })\n",
    "                \n",
    "            columns = ['movie', 'year', 'release_date', 'character', 'total_whoas_in_movie']\n",
    "            df_whoa = pd.DataFrame(whoa_movies, columns=columns)\n",
    "            print(df_whoa.head())\n",
    "            print(f\"Shape of DataFrame: {df_whoa.shape}\")\n",
    "        \n",
    "    except requests.exceptions.JSONDecodeError:\n",
    "        print(\"Error decoding JSON response\")\n",
    "\n",
    "else:\n",
    "    print(f\"Error: {response.status_code} - {response.reason}\")"
   ]
  }
 ],
 "metadata": {
  "kernelspec": {
   "display_name": "venv",
   "language": "python",
   "name": "python3"
  },
  "language_info": {
   "codemirror_mode": {
    "name": "ipython",
    "version": 3
   },
   "file_extension": ".py",
   "mimetype": "text/x-python",
   "name": "python",
   "nbconvert_exporter": "python",
   "pygments_lexer": "ipython3",
   "version": "3.12.8"
  }
 },
 "nbformat": 4,
 "nbformat_minor": 2
}
